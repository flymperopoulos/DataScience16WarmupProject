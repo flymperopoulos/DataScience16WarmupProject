{
 "metadata": {
  "signature": "sha256:7a78b283263eb8b26bea665ce4c66b740a7b5e7bd706f0da2fba11f9c433d3f5"
 },
 "nbformat": 3,
 "nbformat_minor": 0,
 "worksheets": [
  {
   "cells": [
    {
     "cell_type": "markdown",
     "metadata": {},
     "source": [
      "### Data Exploration of the Titanic Dataset from Kaggle"
     ]
    },
    {
     "cell_type": "markdown",
     "metadata": {},
     "source": []
    },
    {
     "cell_type": "code",
     "collapsed": false,
     "input": [
      "import pandas as pd\n",
      "import matplotlib.pyplot as plt\n",
      "import numpy as np\n",
      "\n",
      "# get titanic & test csv files as a DataFrame\n",
      "titanic_train = pd.read_csv(\"./train.csv\", dtype={\"Age\": np.float64}, )\n",
      "\n",
      "# preview the data\n",
      "titanic_train.head()"
     ],
     "language": "python",
     "metadata": {},
     "outputs": []
    }
   ],
   "metadata": {}
  }
 ]
}